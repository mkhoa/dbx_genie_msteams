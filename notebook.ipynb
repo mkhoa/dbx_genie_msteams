{
 "cells": [
  {
   "cell_type": "code",
   "execution_count": 1,
   "id": "d7462ad5",
   "metadata": {},
   "outputs": [],
   "source": [
    "import requests\n",
    "import logging\n",
    "\n",
    "from pprint import pprint\n",
    "from config import DefaultConfig\n",
    "from typing import Dict, List, Optional\n",
    "\n",
    "from databricks.sdk import WorkspaceClient\n",
    "from databricks.sdk.service.dashboards import GenieAPI\n",
    "from databricks.sdk import AccountClient\n",
    "\n",
    "CONFIG = DefaultConfig()\n",
    "# access_token = CONFIG.DATABRICKS_TOKEN\n",
    "workspace_url = CONFIG.DATABRICKS_HOST\n",
    "genie_room_id = CONFIG.DATABRICKS_SPACE_ID\n",
    "w = WorkspaceClient(host = workspace_url)\n",
    "genie_api = GenieAPI(w.api_client)\n",
    "\n",
    "# Log\n",
    "logging.basicConfig(level=logging.ERROR)\n",
    "logger = logging.getLogger(__name__)"
   ]
  },
  {
   "cell_type": "code",
   "execution_count": 15,
   "id": "459a50f9",
   "metadata": {},
   "outputs": [
    {
     "data": {
      "text/plain": [
       "('{\"message\": \"Hello! How can I assist you with your data analysis today?\"}',\n",
       " '01f049a74db918aea42088d01e04797f')"
      ]
     },
     "execution_count": 15,
     "metadata": {},
     "output_type": "execute_result"
    }
   ],
   "source": [
    "from clients.databricks_genie_client import GenieClient\n",
    "\n",
    "await GenieClient().ask_genie(\"Hello\")\n"
   ]
  },
  {
   "cell_type": "code",
   "execution_count": null,
   "id": "2ee0a853",
   "metadata": {},
   "outputs": [
    {
     "name": "stdout",
     "output_type": "stream",
     "text": [
      "('{\"error_code\":401,\"message\":\"Credential was not sent or was of an '\n",
      " 'unsupported type for this API. [ReqId: '\n",
      " '48ba218a-e43f-479b-a4bc-236acb6b2992]\"}')\n"
     ]
    }
   ],
   "source": [
    "# 1. getspace: Retrieve available spaces\n",
    "get_spaces_url = f\"{workspace_url}/api/2.0/genie/spaces/{genie_room_id}\"\n",
    "response1 = requests.get(get_spaces_url, headers={\"Authorization\": f\"Bearer {access_token}\"})\n",
    "pprint(response1.text)"
   ]
  },
  {
   "cell_type": "code",
   "execution_count": 27,
   "id": "a793acca",
   "metadata": {},
   "outputs": [],
   "source": [
    "def process_query_results(answer_json: Dict) -> str:\n",
    "    response = \"\"\n",
    "    \n",
    "    logger.info(f\"Processing answer JSON: {answer_json}\")\n",
    "    \n",
    "    if \"query_description\" in answer_json and answer_json[\"query_description\"]:\n",
    "        response += f\"## Query Description\\n\\n{answer_json['query_description']}\\n\\n\"\n",
    "\n",
    "    if \"query_result_metadata\" in answer_json:\n",
    "        metadata = answer_json[\"query_result_metadata\"]\n",
    "        if isinstance(metadata, dict):\n",
    "            if \"row_count\" in metadata:\n",
    "                response += f\"**Row Count:** {metadata['row_count']}\\n\\n\"\n",
    "            if \"execution_time_ms\" in metadata:\n",
    "                response += f\"**Execution Time:** {metadata['execution_time_ms']}ms\\n\\n\"\n",
    "\n",
    "    if \"statement_response\" in answer_json:\n",
    "        statement_response = answer_json[\"statement_response\"]\n",
    "        logger.info(f\"Found statement_response: {statement_response}\")\n",
    "        \n",
    "        if \"result\" in statement_response and \"data_array\" in statement_response[\"result\"]:\n",
    "            response += \"## Query Results\\n\\n\"\n",
    "            \n",
    "            schema = statement_response.get(\"manifest\", {}).get(\"schema\", {})\n",
    "            columns = schema.get(\"columns\", [])\n",
    "            logger.info(f\"Schema columns: {columns}\")\n",
    "            \n",
    "            header = \"| \" + \" | \".join(col[\"name\"] for col in columns) + \" |\"\n",
    "            separator = \"|\" + \"|\".join([\"---\" for _ in columns]) + \"|\"\n",
    "            response += header + \"\\n\" + separator + \"\\n\"\n",
    "            \n",
    "            data_array = statement_response[\"result\"][\"data_array\"]\n",
    "            logger.info(f\"Data array: {data_array}\")\n",
    "            \n",
    "            for row in data_array:\n",
    "                formatted_row = []\n",
    "                for value, col in zip(row, columns):\n",
    "                    if value is None:\n",
    "                        formatted_value = \"NULL\"\n",
    "                    elif col[\"type_name\"] in [\"DECIMAL\", \"DOUBLE\", \"FLOAT\"]:\n",
    "                        formatted_value = f\"{float(value):,.2f}\"\n",
    "                    elif col[\"type_name\"] in [\"INT\", \"BIGINT\", \"LONG\"]:\n",
    "                        formatted_value = f\"{int(value):,}\"\n",
    "                    else:\n",
    "                        formatted_value = str(value)\n",
    "                    formatted_row.append(formatted_value)\n",
    "                response += \"| \" + \" | \".join(formatted_row) + \" |\\n\"\n",
    "        else:\n",
    "            logger.error(f\"Missing result or data_array in statement_response: {statement_response}\")\n",
    "    elif \"message\" in answer_json:\n",
    "        response += f\"{answer_json['message']}\\n\\n\"\n",
    "    else:\n",
    "        response += \"No data available.\\n\\n\"\n",
    "        logger.error(\"No statement_response or message found in answer_json\")\n",
    "    \n",
    "    return response"
   ]
  },
  {
   "cell_type": "code",
   "execution_count": 40,
   "id": "776b5628",
   "metadata": {},
   "outputs": [
    {
     "name": "stdout",
     "output_type": "stream",
     "text": [
      "'{\"space_id\":\"01f0480a465e133d91f903c42d73ef81\",\"title\":\"Genie Data Analyst\"}'\n"
     ]
    }
   ],
   "source": [
    "# 1. getspace: Retrieve available spaces\n",
    "get_spaces_url = f\"{workspace_url}/api/2.0/genie/spaces/{genie_room_id}\"\n",
    "response1 = requests.get(get_spaces_url, headers={\"Authorization\": f\"Bearer {access_token}\"})\n",
    "pprint(response1.text)"
   ]
  },
  {
   "cell_type": "code",
   "execution_count": 41,
   "id": "f114c474",
   "metadata": {},
   "outputs": [
    {
     "name": "stdout",
     "output_type": "stream",
     "text": [
      "('{\"message_id\":\"01f048790db71403aefc33fac3e27534\",\"message\":{\"id\":\"01f048790db71403aefc33fac3e27534\",\"space_id\":\"01f0480a465e133d91f903c42d73ef81\",\"conversation_id\":\"01f048790da11e4f8a539a33fc5a46a0\",\"user_id\":8707948743593954,\"created_timestamp\":1749834520684,\"status\":\"SUBMITTED\",\"content\":\"Hi '\n",
      " 'Genie!\",\"auto_regenerate_count\":0,\"message_id\":\"01f048790db71403aefc33fac3e27534\"},\"conversation_id\":\"01f048790da11e4f8a539a33fc5a46a0\",\"conversation\":{\"id\":\"01f048790da11e4f8a539a33fc5a46a0\",\"space_id\":\"01f0480a465e133d91f903c42d73ef81\",\"user_id\":8707948743593954,\"created_timestamp\":1749834520541,\"last_updated_timestamp\":1749834520541,\"title\":\"Hi '\n",
      " 'Genie!\",\"conversation_id\":\"01f048790da11e4f8a539a33fc5a46a0\"}}')\n"
     ]
    }
   ],
   "source": [
    "# 2. startconversation: Start a new conversation in a specific space\n",
    "start_conv_url = f\"{workspace_url}/api/2.0/genie/spaces/{genie_room_id}/start-conversation\"\n",
    "payload_start = {\"content\": \"Hi Genie!\"}\n",
    "response2 = requests.post(start_conv_url, headers={\"Authorization\": f\"Bearer {access_token}\"}, json=payload_start)\n",
    "pprint(response2.text)"
   ]
  },
  {
   "cell_type": "code",
   "execution_count": 47,
   "id": "f4cacde0",
   "metadata": {},
   "outputs": [
    {
     "name": "stdout",
     "output_type": "stream",
     "text": [
      "('{\"id\":\"01f048794b591e88a661494951bdff2a\",\"space_id\":\"01f0480a465e133d91f903c42d73ef81\",\"conversation_id\":\"01f048790da11e4f8a539a33fc5a46a0\",\"user_id\":8707948743593954,\"created_timestamp\":1749834624091,\"status\":\"SUBMITTED\",\"content\":\"Show '\n",
      " 'me sales by '\n",
      " 'years\",\"auto_regenerate_count\":0,\"message_id\":\"01f048794b591e88a661494951bdff2a\"}')\n"
     ]
    }
   ],
   "source": [
    "# 3. createmessage: Create a new message in the conversation\n",
    "conversation_id = response2.json()['conversation_id']\n",
    "create_msg_url = f\"{workspace_url}/api/2.0/genie/spaces/{genie_room_id}/conversations/{conversation_id}/messages\"\n",
    "payload_message = {\"content\": \"Show me sales by years\"}\n",
    "response3 = requests.post(create_msg_url, headers={\"Authorization\": f\"Bearer {access_token}\"}, json=payload_message)\n",
    "pprint(response3.text)"
   ]
  },
  {
   "cell_type": "code",
   "execution_count": 48,
   "id": "5440b298",
   "metadata": {},
   "outputs": [
    {
     "name": "stdout",
     "output_type": "stream",
     "text": [
      "('{\"id\":\"01f048794b591e88a661494951bdff2a\",\"space_id\":\"01f0480a465e133d91f903c42d73ef81\",\"conversation_id\":\"01f048790da11e4f8a539a33fc5a46a0\",\"user_id\":8707948743593954,\"created_timestamp\":1749834624091,\"last_updated_timestamp\":1749834624386,\"status\":\"FILTERING_CONTEXT\",\"content\":\"Show '\n",
      " 'me sales by '\n",
      " 'years\",\"auto_regenerate_count\":0,\"message_id\":\"01f048794b591e88a661494951bdff2a\"}')\n"
     ]
    }
   ],
   "source": [
    "# 4. getmessage: Retrieve the created message from the conversation\n",
    "message_id = response3.json()['message_id']\n",
    "get_msg_url = f\"{workspace_url}/api/2.0/genie/spaces/{genie_room_id}/conversations/{conversation_id}/messages/{message_id}\"\n",
    "response4 = requests.get(get_msg_url, headers={\"Authorization\": f\"Bearer {access_token}\"})\n",
    "pprint(response4.text)"
   ]
  },
  {
   "cell_type": "code",
   "execution_count": 49,
   "id": "53b81840",
   "metadata": {},
   "outputs": [
    {
     "name": "stdout",
     "output_type": "stream",
     "text": [
      "('{\"id\":\"01f048794b591e88a661494951bdff2a\",\"space_id\":\"01f0480a465e133d91f903c42d73ef81\",\"conversation_id\":\"01f048790da11e4f8a539a33fc5a46a0\",\"user_id\":8707948743593954,\"created_timestamp\":1749834624091,\"last_updated_timestamp\":1749834633608,\"status\":\"COMPLETED\",\"content\":\"Show '\n",
      " 'me sales by years\",\"attachments\":[{\"query\":{\"query\":\"SELECT '\n",
      " 'YEAR(`sales`.`order_date`) AS `year`, SUM(`sales`.`total_price`) AS '\n",
      " '`total_sales` FROM `databricks_simulated_retail_customer_data`.`v01`.`sales` '\n",
      " 'GROUP BY `year` ORDER BY `year`\",\"description\":\"This analysis provides the '\n",
      " 'total sales revenue for each year, calculated by summing the sales amounts '\n",
      " 'from all transactions. The results are organized chronologically by '\n",
      " 'year.\",\"statement_id\":\"01f04879-4f09-1156-9b69-43c6fac2ac05\",\"query_result_metadata\":{\"row_count\":2}},\"attachment_id\":\"01f048794efe19c0b7832b7f2843414e\"}],\"query_result\":{\"statement_id\":\"01f04879-4f09-1156-9b69-43c6fac2ac05\",\"row_count\":2},\"auto_regenerate_count\":0,\"message_id\":\"01f048794b591e88a661494951bdff2a\"}')\n"
     ]
    }
   ],
   "source": [
    "# 5. getmessage: Retrieve the created message from the conversation\n",
    "message_id = response4.json()['message_id']\n",
    "get_msg_url = f\"{workspace_url}/api/2.0/genie/spaces/{genie_room_id}/conversations/{conversation_id}/messages/{message_id}\"\n",
    "response5 = requests.get(get_msg_url, headers={\"Authorization\": f\"Bearer {access_token}\"})\n",
    "pprint(response5.text)"
   ]
  },
  {
   "cell_type": "code",
   "execution_count": 51,
   "id": "460a7174",
   "metadata": {},
   "outputs": [
    {
     "name": "stdout",
     "output_type": "stream",
     "text": [
      "'{\"statement_response\":{\"statement_id\":\"01f04879-4f09-1156-9b69-43c6fac2ac05\",\"status\":{\"state\":\"SUCCEEDED\"},\"manifest\":{\"format\":\"JSON_ARRAY\",\"schema\":{\"column_count\":2,\"columns\":[{\"name\":\"year\",\"type_text\":\"INT\",\"type_name\":\"INT\",\"position\":0},{\"name\":\"total_sales\",\"type_text\":\"BIGINT\",\"type_name\":\"LONG\",\"position\":1}]},\"total_chunk_count\":1,\"chunks\":[{\"chunk_index\":0,\"row_offset\":0,\"row_count\":2,\"byte_count\":464}],\"total_row_count\":2,\"total_byte_count\":464,\"truncated\":false},\"result\":{\"chunk_index\":0,\"row_offset\":0,\"row_count\":2,\"data_array\":[[\"2019\",\"2550552\"],[\"2020\",\"185474\"]]}}}'\n"
     ]
    }
   ],
   "source": [
    "# 5. getmessageattachmentqueryresult: Get the SQL query attachment result (if any) for the message\n",
    "attachment_id = response5.json()['attachments'][0]['attachment_id']\n",
    "get_attachment_result_url = f\"{workspace_url}/api/2.0/genie/spaces/{genie_room_id}/conversations/{conversation_id}/messages/{message_id}/attachments/{attachment_id}/query-result\"\n",
    "response6 = requests.get(get_attachment_result_url, headers={\"Authorization\": f\"Bearer {access_token}\"})\n",
    "pprint(response6.text)"
   ]
  },
  {
   "cell_type": "code",
   "execution_count": 52,
   "id": "9ecc91c9",
   "metadata": {},
   "outputs": [
    {
     "data": {
      "text/plain": [
       "'## Query Results\\n\\n| year | total_sales |\\n|---|---|\\n| 2,019 | 2,550,552 |\\n| 2,020 | 185,474 |\\n'"
      ]
     },
     "execution_count": 52,
     "metadata": {},
     "output_type": "execute_result"
    }
   ],
   "source": [
    "process_query_results(response6.json())"
   ]
  },
  {
   "cell_type": "code",
   "execution_count": null,
   "id": "d151cffe",
   "metadata": {},
   "outputs": [
    {
     "name": "stdout",
     "output_type": "stream",
     "text": [
      "'{\"statement_id\":\"01f04876-0ccd-1770-a696-845d19a825d8\",\"status\":{\"state\":\"SUCCEEDED\"},\"manifest\":{\"format\":\"JSON_ARRAY\",\"schema\":{\"column_count\":2,\"columns\":[{\"name\":\"year\",\"type_text\":\"INT\",\"type_name\":\"INT\",\"position\":0},{\"name\":\"total_sales\",\"type_text\":\"BIGINT\",\"type_name\":\"LONG\",\"position\":1}]},\"total_chunk_count\":1,\"chunks\":[{\"chunk_index\":0,\"row_offset\":0,\"row_count\":2}],\"total_row_count\":2,\"truncated\":false},\"result\":{\"chunk_index\":0,\"row_offset\":0,\"row_count\":2,\"data_array\":[[\"2019\",\"2550552\"],[\"2020\",\"185474\"]]}}'\n"
     ]
    }
   ],
   "source": [
    "# 6. we can also use SQL endpoint statement info to get that result\n",
    "statement_id = response5.json()['query_result']['statement_id']\n",
    "get_attachment_result_url = f\"{workspace_url}/api/2.0/sql/statements/{statement_id}\"\n",
    "response7 = requests.get(get_attachment_result_url, headers={\"Authorization\": f\"Bearer {access_token}\"})\n",
    "pprint(response7.text)"
   ]
  },
  {
   "cell_type": "code",
   "execution_count": 12,
   "id": "0d5a7299",
   "metadata": {},
   "outputs": [],
   "source": [
    "def init_conversation(space_id: str):\n",
    "    \"\"\"\n",
    "    Initialize a conversation with Genie and ask a question.\n",
    "    \n",
    "    :param space_id: The ID of the space where the conversation will take place.\n",
    "    :param question: The question to ask Genie.\n",
    "    :return: The response from Genie and the conversation ID.\n",
    "    \"\"\"\n",
    "    initial_message = genie_api.start_conversation_and_wait( space_id, \"Hello Genie!\")\n",
    "    conversation_id = initial_message.conversation_id\n",
    "\n",
    "    return conversation_id\n",
    "\n",
    "def ask_genie(question: str, space_id: str, conversation_id: Optional[str] = None):\n",
    "    \"\"\"\n",
    "    Ask Genie a question in a specific space.\n",
    "    \n",
    "    :param question: The question to ask Genie.\n",
    "    :param space_id: The ID of the space where the question will be asked.\n",
    "    :param conversation_id: Optional conversation ID to continue an existing conversation.\n",
    "    :return: The response from Genie.\n",
    "    \"\"\"\n",
    "    if conversation_id is None:\n",
    "        initial_message =genie_api.start_conversation_and_wait( space_id, question)\n",
    "        conversation_id = initial_message.conversation_id\n",
    "    else:\n",
    "        initial_message = genie_api.create_message_and_wait(space_id, conversation_id, question)\n",
    "\n",
    "    message_content = genie_api.get_message(space_id, initial_message.conversation_id, initial_message.id)\n",
    "\n",
    "    return message_content, conversation_id\n",
    "\n",
    "def get_attachment_query_result(space_id, conversation_id, message_id, attachment_id):    \n",
    "    \"\"\"Get the query result for an attachment using the Genie API.\n",
    "    \n",
    "    \"\"\"\n",
    "\n",
    "    url = f\"{CONFIG.DATABRICKS_HOST}/api/2.0/genie/spaces/{space_id}/conversations/{conversation_id}/messages/{message_id}\"\n",
    "    headers = {\n",
    "        \"Authorization\": f\"Bearer {CONFIG.DATABRICKS_TOKEN}\",\n",
    "        \"Content-Type\": \"application/json\"\n",
    "    }\n",
    "    response = requests.get(url, headers=headers)\n",
    "    if response.status_code != 200:\n",
    "        logger.error(f\"Message endpoint returned status {response.status_code}: {response.text}\")\n",
    "        return {}\n",
    "    \n",
    "    try:\n",
    "        message_data = response.json()\n",
    "        logger.info(f\"Message data: {message_data}\")\n",
    "        \n",
    "        statement_id = None\n",
    "        if \"attachments\" in message_data:\n",
    "            for attachment in message_data[\"attachments\"]:\n",
    "                if attachment.get(\"attachment_id\") == attachment_id:\n",
    "                    if \"query\" in attachment and \"statement_id\" in attachment[\"query\"]:\n",
    "                        statement_id = attachment[\"query\"][\"statement_id\"]\n",
    "                        break\n",
    "        \n",
    "        if not statement_id:\n",
    "            logger.error(\"No statement_id found in message data\")\n",
    "            return {}\n",
    "            \n",
    "        query_url = f\"{CONFIG.DATABRICKS_HOST}/api/2.0/genie/spaces/{space_id}/conversations/{conversation_id}/messages/{message_id}/attachments/{attachment_id}/query-result\"\n",
    "        query_headers = {\n",
    "            \"Authorization\": f\"Bearer {CONFIG.DATABRICKS_TOKEN}\",\n",
    "            \"Content-Type\": \"application/json\",\n",
    "            \"X-Databricks-Statement-Id\": statement_id\n",
    "        }\n",
    "        \n",
    "        query_response = requests.get(query_url, headers=query_headers)\n",
    "        if query_response.status_code != 200:\n",
    "            logger.error(f\"Query result endpoint returned status {query_response.status_code}: {query_response.text}\")\n",
    "            return {}\n",
    "            \n",
    "        if not query_response.text.strip():\n",
    "            logger.error(f\"Empty response from Genie API: {query_response.status_code}\")\n",
    "            return {}\n",
    "            \n",
    "        result = query_response.json()\n",
    "        logger.info(f\"Raw query result response: {result}\")\n",
    "        \n",
    "        if isinstance(result, dict):\n",
    "            if \"data_array\" in result:\n",
    "                if not isinstance(result[\"data_array\"], list):\n",
    "                    result[\"data_array\"] = []\n",
    "            if \"schema\" in result:\n",
    "                if not isinstance(result[\"schema\"], dict):\n",
    "                    result[\"schema\"] = {}\n",
    "                    \n",
    "            if \"schema\" in result and \"columns\" in result[\"schema\"]:\n",
    "                if not isinstance(result[\"schema\"][\"columns\"], list):\n",
    "                    result[\"schema\"][\"columns\"] = []\n",
    "                    \n",
    "            if \"data_array\" in result and result[\"data_array\"] and \"schema\" not in result:\n",
    "                first_row = result[\"data_array\"][0]\n",
    "                if isinstance(first_row, dict):\n",
    "                    result[\"schema\"] = {\n",
    "                        \"columns\": [{\"name\": key} for key in first_row.keys()]\n",
    "                    }\n",
    "                elif isinstance(first_row, list):\n",
    "                    result[\"schema\"] = {\n",
    "                        \"columns\": [{\"name\": f\"Column {i}\"} for i in range(len(first_row))]\n",
    "                    }\n",
    "                    \n",
    "        return result\n",
    "    except Exception as e:\n",
    "        logger.error(f\"Failed to process Genie API response: {e}, text: {response.text}\")\n",
    "        return {}\n"
   ]
  },
  {
   "cell_type": "code",
   "execution_count": 10,
   "id": "dc11185a",
   "metadata": {},
   "outputs": [],
   "source": [
    "conversation_id = init_conversation(genie_room_id)"
   ]
  },
  {
   "cell_type": "code",
   "execution_count": 69,
   "id": "7c07d94e",
   "metadata": {},
   "outputs": [
    {
     "data": {
      "text/plain": [
       "GenieMessage(id='01f048a2b8fb1162a0f0a86bcb799238', space_id='01f0480a465e133d91f903c42d73ef81', conversation_id='01f0489c2e371e24acf44e378e9d9657', content='Show me sales by years and month', message_id='01f048a2b8fb1162a0f0a86bcb799238', attachments=[GenieAttachment(attachment_id='01f048a2bce21b69ac961e63b6e24c78', query=GenieQueryAttachment(description='This report summarizes total sales by month and year, providing insights into sales performance over time. The data is aggregated to show the total revenue generated for each month, allowing for easy tracking of sales trends.', id=None, last_updated_timestamp=None, query='SELECT YEAR(`sales`.`order_date`) AS `year`, MONTH(`sales`.`order_date`) AS `month`, SUM(`sales`.`total_price`) AS `total_sales` FROM `databricks_simulated_retail_customer_data`.`v01`.`sales` GROUP BY YEAR(`sales`.`order_date`), MONTH(`sales`.`order_date`) ORDER BY YEAR(`sales`.`order_date`), MONTH(`sales`.`order_date`)', query_result_metadata=GenieResultMetadata(is_truncated=None, row_count=4), statement_id='01f048a2-bd23-1545-bb95-2382d47df3f1', title=None), text=None)], created_timestamp=1749852417384, error=None, last_updated_timestamp=1749852438235, query_result=Result(is_truncated=None, row_count=4, statement_id='01f048a2-bd23-1545-bb95-2382d47df3f1'), status=<MessageStatus.COMPLETED: 'COMPLETED'>, user_id=8707948743593954)"
      ]
     },
     "execution_count": 69,
     "metadata": {},
     "output_type": "execute_result"
    }
   ],
   "source": [
    "message_content, conversation_id = ask_genie(\"Show me sales by years and month\", genie_room_id, conversation_id)\n",
    "message_content"
   ]
  },
  {
   "cell_type": "code",
   "execution_count": 70,
   "id": "63d34ca5",
   "metadata": {},
   "outputs": [],
   "source": [
    "initial_message = genie_api.start_conversation_and_wait(genie_room_id, \"Hello Genie!\")\n",
    "conversation_id = initial_message.conversation_id\n",
    "message_content, conversation_id = ask_genie(\"Show me aggregated sales amount by years and month\", genie_room_id, conversation_id)"
   ]
  },
  {
   "cell_type": "code",
   "execution_count": 71,
   "id": "e716a58b",
   "metadata": {},
   "outputs": [],
   "source": [
    "message_id = message_content.message_id\n",
    "attachment_id = message_content.attachments[0].attachment_id if message_content.attachments else None"
   ]
  },
  {
   "cell_type": "code",
   "execution_count": 83,
   "id": "15ba685f",
   "metadata": {},
   "outputs": [],
   "source": [
    "query_result = genie_api.get_message_attachment_query_result(genie_room_id, conversation_id, message_id, attachment_id)"
   ]
  },
  {
   "cell_type": "code",
   "execution_count": 85,
   "id": "3d84f67f",
   "metadata": {},
   "outputs": [
    {
     "data": {
      "text/plain": [
       "{'manifest': {'chunks': [{'byte_count': 616,\n",
       "    'chunk_index': 0,\n",
       "    'row_count': 4,\n",
       "    'row_offset': 0}],\n",
       "  'format': 'JSON_ARRAY',\n",
       "  'schema': {'column_count': 3,\n",
       "   'columns': [{'name': 'year',\n",
       "     'position': 0,\n",
       "     'type_name': 'INT',\n",
       "     'type_text': 'INT'},\n",
       "    {'name': 'month', 'position': 1, 'type_name': 'INT', 'type_text': 'INT'},\n",
       "    {'name': 'total_sales',\n",
       "     'position': 2,\n",
       "     'type_name': 'LONG',\n",
       "     'type_text': 'BIGINT'}]},\n",
       "  'total_byte_count': 616,\n",
       "  'total_chunk_count': 1,\n",
       "  'total_row_count': 4,\n",
       "  'truncated': False},\n",
       " 'result': {'chunk_index': 0,\n",
       "  'data_array': [['2019', '8', '1128305'],\n",
       "   ['2019', '9', '609871'],\n",
       "   ['2019', '10', '812376'],\n",
       "   ['2020', '2', '185474']],\n",
       "  'row_count': 4,\n",
       "  'row_offset': 0},\n",
       " 'statement_id': '01f048a2-cca0-17b1-aee1-e082313d1971',\n",
       " 'status': {'state': 'SUCCEEDED'}}"
      ]
     },
     "execution_count": 85,
     "metadata": {},
     "output_type": "execute_result"
    }
   ],
   "source": [
    "query_result.as_dict()['statement_response']"
   ]
  },
  {
   "cell_type": "code",
   "execution_count": 64,
   "id": "8353ece1",
   "metadata": {},
   "outputs": [
    {
     "data": {
      "text/plain": [
       "GenieGetMessageQueryResultResponse(statement_response=StatementResponse(manifest=ResultManifest(chunks=[BaseChunkInfo(byte_count=616, chunk_index=0, row_count=4, row_offset=0)], format=<Format.JSON_ARRAY: 'JSON_ARRAY'>, schema=ResultSchema(column_count=3, columns=[ColumnInfo(name='year', position=0, type_interval_type=None, type_name=<ColumnInfoTypeName.INT: 'INT'>, type_precision=None, type_scale=None, type_text='INT'), ColumnInfo(name='month', position=1, type_interval_type=None, type_name=<ColumnInfoTypeName.INT: 'INT'>, type_precision=None, type_scale=None, type_text='INT'), ColumnInfo(name='total_sales', position=2, type_interval_type=None, type_name=<ColumnInfoTypeName.LONG: 'LONG'>, type_precision=None, type_scale=None, type_text='BIGINT')]), total_byte_count=616, total_chunk_count=1, total_row_count=4, truncated=False), result=ResultData(byte_count=None, chunk_index=0, data_array=[['2019', '8', '1128305'], ['2019', '9', '609871'], ['2019', '10', '812376'], ['2020', '2', '185474']], external_links=[], next_chunk_index=None, next_chunk_internal_link=None, row_count=4, row_offset=0), statement_id='01f0489c-35ad-1968-9220-c1e19c819788', status=StatementStatus(error=None, state=<StatementState.SUCCEEDED: 'SUCCEEDED'>)))"
      ]
     },
     "execution_count": 64,
     "metadata": {},
     "output_type": "execute_result"
    }
   ],
   "source": [
    "query_result"
   ]
  },
  {
   "cell_type": "code",
   "execution_count": 62,
   "id": "ef062786",
   "metadata": {},
   "outputs": [
    {
     "ename": "AttributeError",
     "evalue": "'GenieGetMessageQueryResultResponse' object has no attribute 'attachments'",
     "output_type": "error",
     "traceback": [
      "\u001b[31m---------------------------------------------------------------------------\u001b[39m",
      "\u001b[31mAttributeError\u001b[39m                            Traceback (most recent call last)",
      "\u001b[36mCell\u001b[39m\u001b[36m \u001b[39m\u001b[32mIn[62]\u001b[39m\u001b[32m, line 1\u001b[39m\n\u001b[32m----> \u001b[39m\u001b[32m1\u001b[39m query_description = \u001b[38;5;28mgetattr\u001b[39m(\u001b[43mquery_result\u001b[49m\u001b[43m.\u001b[49m\u001b[43mattachments\u001b[49m, \u001b[33m\"\u001b[39m\u001b[33mdescription\u001b[39m\u001b[33m\"\u001b[39m, \u001b[33m\"\u001b[39m\u001b[33m\"\u001b[39m)\n",
      "\u001b[31mAttributeError\u001b[39m: 'GenieGetMessageQueryResultResponse' object has no attribute 'attachments'"
     ]
    }
   ],
   "source": [
    "query_description = getattr(query_result.attachments, \"description\", \"\")"
   ]
  },
  {
   "cell_type": "code",
   "execution_count": 61,
   "id": "d9d09f5f",
   "metadata": {},
   "outputs": [
    {
     "data": {
      "text/plain": [
       "''"
      ]
     },
     "execution_count": 61,
     "metadata": {},
     "output_type": "execute_result"
    }
   ],
   "source": [
    "query_description"
   ]
  },
  {
   "cell_type": "code",
   "execution_count": 28,
   "id": "d9ffb634",
   "metadata": {},
   "outputs": [
    {
     "data": {
      "text/plain": [
       "'## Query Results\\n\\n| year | month | total_sales |\\n|---|---|---|\\n| 2,019 | 8 | 1,128,305 |\\n| 2,019 | 9 | 609,871 |\\n| 2,019 | 10 | 812,376 |\\n| 2,020 | 2 | 185,474 |\\n'"
      ]
     },
     "execution_count": 28,
     "metadata": {},
     "output_type": "execute_result"
    }
   ],
   "source": [
    "process_query_results(message_attachment_query_result)"
   ]
  }
 ],
 "metadata": {
  "kernelspec": {
   "display_name": "base",
   "language": "python",
   "name": "python3"
  },
  "language_info": {
   "codemirror_mode": {
    "name": "ipython",
    "version": 3
   },
   "file_extension": ".py",
   "mimetype": "text/x-python",
   "name": "python",
   "nbconvert_exporter": "python",
   "pygments_lexer": "ipython3",
   "version": "3.13.2"
  }
 },
 "nbformat": 4,
 "nbformat_minor": 5
}
